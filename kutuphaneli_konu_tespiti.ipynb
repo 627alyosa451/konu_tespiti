{
  "nbformat": 4,
  "nbformat_minor": 0,
  "metadata": {
    "colab": {
      "provenance": [],
      "authorship_tag": "ABX9TyOhqiBUuCaZR8Rmg693JZNR",
      "include_colab_link": true
    },
    "kernelspec": {
      "name": "python3",
      "display_name": "Python 3"
    },
    "language_info": {
      "name": "python"
    }
  },
  "cells": [
    {
      "cell_type": "markdown",
      "metadata": {
        "id": "view-in-github",
        "colab_type": "text"
      },
      "source": [
        "<a href=\"https://colab.research.google.com/github/627alyosa451/konu_tespiti/blob/main/kutuphaneli_konu_tespiti.ipynb\" target=\"_parent\"><img src=\"https://colab.research.google.com/assets/colab-badge.svg\" alt=\"Open In Colab\"/></a>"
      ]
    },
    {
      "cell_type": "code",
      "source": [
        "from sklearn.feature_extraction.text import TfidfVectorizer\n",
        "from sklearn.linear_model import LogisticRegression\n",
        "from sklearn.pipeline import Pipeline\n",
        "\n",
        "\n",
        "konular = {\n",
        "    \"siyaset\": [\"siyaset\", \"parti\", \"seçim\", \"hükümet\", \"meclis\", \"bakan\", \"demokrasi\"],\n",
        "    \"teknoloji\": [\"teknoloji\", \"yazılım\", \"bilgisayar\", \"internet\", \"yapay zeka\", \"programlama\", \"veri\"],\n",
        "    \"spor\": [\"spor\", \"futbol\", \"basketbol\", \"tenis\", \"voleybol\", \"antrenman\", \"maç\"],\n",
        "    \"sağlık\": [\"sağlık\", \"doktor\", \"hastane\", \"ilaç\", \"tedavi\", \"hastalık\", \"vücut\"],\n",
        "    \"eğlence\": [\"eğlence\", \"film\", \"müzik\", \"kitap\", \"tiyatro\", \"konser\", \"oyun\"],\n",
        "}\n",
        "\n",
        "\n",
        "metinler = []\n",
        "etiketler = []\n",
        "for konu, kelimeler in konular.items():\n",
        "    metinler.extend(kelimeler)\n",
        "    etiketler.extend([konu] * len(kelimeler))\n",
        "\n",
        "#Sınıflandırma\n",
        "model = Pipeline([\n",
        "    ('tfidf', TfidfVectorizer()),  # Metinleri sayısal vektöre dönüştürme (ilgililik hesaplaması)\n",
        "    ('clf', LogisticRegression()),  # tahmin kısmı\n",
        "])\n",
        "\n",
        "#hangi kelimelerin hangi konulara bağlı olduğu öğretilir\n",
        "model.fit(metinler, etiketler)\n",
        "\n",
        "# Paragrafın konusunu bulma fonksiyonu\n",
        "def konu_bul(paragraf):\n",
        "    tahmini_konu = model.predict([paragraf])[0] #eğitilmiş modulü kullanır\n",
        "    return tahmini_konu\n",
        "\n",
        "\n",
        "paragraf = input(\"Bir cümle girin\")\n",
        "konu = konu_bul(paragraf)\n",
        "print(f\"Paragrafın konusu: {konu}\")"
      ],
      "metadata": {
        "colab": {
          "base_uri": "https://localhost:8080/"
        },
        "id": "5KreIFcxpho0",
        "outputId": "74b6adc7-9b6e-4b90-bf9b-4c134f63e528"
      },
      "execution_count": 3,
      "outputs": [
        {
          "output_type": "stream",
          "name": "stdout",
          "text": [
            "Bir cümle girinBu programı çalıştırdığımızda eğer kullanıcı “ing_sözlük” adıyla belirttiğimiz sözlük içinde bulunan kelimelerden birini yazarsa, o kelimenin karşılığını alacaktır. Diyelim ki kullanıcımız soruya “dil” diye cevap verdi. Bu durumda ekrana “dil” kelimesinin sözlükteki karşılığı olan “language” yazdırılacaktır. Peki ya kullanıcı sözlükte tanımlı olmayan bir kelime yazarsa ne olacak? Öyle bir durumda programımız hata verecektir. Programımız için doğru yol, hata vermektense, kullanıcıyı kelimenin sözlükte olmadığı konusunda bilgilendirmektir. Bunu klasik bir yaklaşımla şu şekilde yapabiliriz:\n",
            "Paragrafın konusu: teknoloji\n"
          ]
        }
      ]
    }
  ]
}